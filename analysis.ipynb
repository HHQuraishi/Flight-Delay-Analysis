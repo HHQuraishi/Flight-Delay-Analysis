{
 "cells": [
  {
   "cell_type": "code",
   "execution_count": 1,
   "id": "0b6a970f-f6db-4f62-8760-b46a3968a185",
   "metadata": {},
   "outputs": [],
   "source": [
    "# importing libraries\n",
    "import numpy as np\n",
    "import pandas as pd\n",
    "from sklearn.preprocessing import LabelEncoder, StandardScaler\n",
    "import matplotlib.pyplot as plt\n",
    "import seaborn as sns"
   ]
  },
  {
   "cell_type": "code",
   "execution_count": 2,
   "id": "46327a05-95d2-4d39-8b48-21f7a8287efa",
   "metadata": {},
   "outputs": [
    {
     "ename": "FileNotFoundError",
     "evalue": "[Errno 2] No such file or directory: 'customer1.csv'",
     "output_type": "error",
     "traceback": [
      "\u001b[1;31m---------------------------------------------------------------------------\u001b[0m",
      "\u001b[1;31mFileNotFoundError\u001b[0m                         Traceback (most recent call last)",
      "Cell \u001b[1;32mIn[2], line 2\u001b[0m\n\u001b[0;32m      1\u001b[0m \u001b[38;5;66;03m# reading the file\u001b[39;00m\n\u001b[1;32m----> 2\u001b[0m file\u001b[38;5;241m=\u001b[39m\u001b[43mpd\u001b[49m\u001b[38;5;241;43m.\u001b[39;49m\u001b[43mread_csv\u001b[49m\u001b[43m(\u001b[49m\u001b[38;5;124;43m'\u001b[39;49m\u001b[38;5;124;43mcustomer1.csv\u001b[39;49m\u001b[38;5;124;43m'\u001b[39;49m\u001b[43m)\u001b[49m\n\u001b[0;32m      3\u001b[0m \u001b[38;5;28mprint\u001b[39m(\u001b[38;5;124m\"\u001b[39m\u001b[38;5;124mFile read successfully\u001b[39m\u001b[38;5;124m\"\u001b[39m)\n",
      "File \u001b[1;32m~\\AppData\\Local\\Programs\\Python\\Python312\\Lib\\site-packages\\pandas\\io\\parsers\\readers.py:1026\u001b[0m, in \u001b[0;36mread_csv\u001b[1;34m(filepath_or_buffer, sep, delimiter, header, names, index_col, usecols, dtype, engine, converters, true_values, false_values, skipinitialspace, skiprows, skipfooter, nrows, na_values, keep_default_na, na_filter, verbose, skip_blank_lines, parse_dates, infer_datetime_format, keep_date_col, date_parser, date_format, dayfirst, cache_dates, iterator, chunksize, compression, thousands, decimal, lineterminator, quotechar, quoting, doublequote, escapechar, comment, encoding, encoding_errors, dialect, on_bad_lines, delim_whitespace, low_memory, memory_map, float_precision, storage_options, dtype_backend)\u001b[0m\n\u001b[0;32m   1013\u001b[0m kwds_defaults \u001b[38;5;241m=\u001b[39m _refine_defaults_read(\n\u001b[0;32m   1014\u001b[0m     dialect,\n\u001b[0;32m   1015\u001b[0m     delimiter,\n\u001b[1;32m   (...)\u001b[0m\n\u001b[0;32m   1022\u001b[0m     dtype_backend\u001b[38;5;241m=\u001b[39mdtype_backend,\n\u001b[0;32m   1023\u001b[0m )\n\u001b[0;32m   1024\u001b[0m kwds\u001b[38;5;241m.\u001b[39mupdate(kwds_defaults)\n\u001b[1;32m-> 1026\u001b[0m \u001b[38;5;28;01mreturn\u001b[39;00m \u001b[43m_read\u001b[49m\u001b[43m(\u001b[49m\u001b[43mfilepath_or_buffer\u001b[49m\u001b[43m,\u001b[49m\u001b[43m \u001b[49m\u001b[43mkwds\u001b[49m\u001b[43m)\u001b[49m\n",
      "File \u001b[1;32m~\\AppData\\Local\\Programs\\Python\\Python312\\Lib\\site-packages\\pandas\\io\\parsers\\readers.py:620\u001b[0m, in \u001b[0;36m_read\u001b[1;34m(filepath_or_buffer, kwds)\u001b[0m\n\u001b[0;32m    617\u001b[0m _validate_names(kwds\u001b[38;5;241m.\u001b[39mget(\u001b[38;5;124m\"\u001b[39m\u001b[38;5;124mnames\u001b[39m\u001b[38;5;124m\"\u001b[39m, \u001b[38;5;28;01mNone\u001b[39;00m))\n\u001b[0;32m    619\u001b[0m \u001b[38;5;66;03m# Create the parser.\u001b[39;00m\n\u001b[1;32m--> 620\u001b[0m parser \u001b[38;5;241m=\u001b[39m \u001b[43mTextFileReader\u001b[49m\u001b[43m(\u001b[49m\u001b[43mfilepath_or_buffer\u001b[49m\u001b[43m,\u001b[49m\u001b[43m \u001b[49m\u001b[38;5;241;43m*\u001b[39;49m\u001b[38;5;241;43m*\u001b[39;49m\u001b[43mkwds\u001b[49m\u001b[43m)\u001b[49m\n\u001b[0;32m    622\u001b[0m \u001b[38;5;28;01mif\u001b[39;00m chunksize \u001b[38;5;129;01mor\u001b[39;00m iterator:\n\u001b[0;32m    623\u001b[0m     \u001b[38;5;28;01mreturn\u001b[39;00m parser\n",
      "File \u001b[1;32m~\\AppData\\Local\\Programs\\Python\\Python312\\Lib\\site-packages\\pandas\\io\\parsers\\readers.py:1620\u001b[0m, in \u001b[0;36mTextFileReader.__init__\u001b[1;34m(self, f, engine, **kwds)\u001b[0m\n\u001b[0;32m   1617\u001b[0m     \u001b[38;5;28mself\u001b[39m\u001b[38;5;241m.\u001b[39moptions[\u001b[38;5;124m\"\u001b[39m\u001b[38;5;124mhas_index_names\u001b[39m\u001b[38;5;124m\"\u001b[39m] \u001b[38;5;241m=\u001b[39m kwds[\u001b[38;5;124m\"\u001b[39m\u001b[38;5;124mhas_index_names\u001b[39m\u001b[38;5;124m\"\u001b[39m]\n\u001b[0;32m   1619\u001b[0m \u001b[38;5;28mself\u001b[39m\u001b[38;5;241m.\u001b[39mhandles: IOHandles \u001b[38;5;241m|\u001b[39m \u001b[38;5;28;01mNone\u001b[39;00m \u001b[38;5;241m=\u001b[39m \u001b[38;5;28;01mNone\u001b[39;00m\n\u001b[1;32m-> 1620\u001b[0m \u001b[38;5;28mself\u001b[39m\u001b[38;5;241m.\u001b[39m_engine \u001b[38;5;241m=\u001b[39m \u001b[38;5;28;43mself\u001b[39;49m\u001b[38;5;241;43m.\u001b[39;49m\u001b[43m_make_engine\u001b[49m\u001b[43m(\u001b[49m\u001b[43mf\u001b[49m\u001b[43m,\u001b[49m\u001b[43m \u001b[49m\u001b[38;5;28;43mself\u001b[39;49m\u001b[38;5;241;43m.\u001b[39;49m\u001b[43mengine\u001b[49m\u001b[43m)\u001b[49m\n",
      "File \u001b[1;32m~\\AppData\\Local\\Programs\\Python\\Python312\\Lib\\site-packages\\pandas\\io\\parsers\\readers.py:1880\u001b[0m, in \u001b[0;36mTextFileReader._make_engine\u001b[1;34m(self, f, engine)\u001b[0m\n\u001b[0;32m   1878\u001b[0m     \u001b[38;5;28;01mif\u001b[39;00m \u001b[38;5;124m\"\u001b[39m\u001b[38;5;124mb\u001b[39m\u001b[38;5;124m\"\u001b[39m \u001b[38;5;129;01mnot\u001b[39;00m \u001b[38;5;129;01min\u001b[39;00m mode:\n\u001b[0;32m   1879\u001b[0m         mode \u001b[38;5;241m+\u001b[39m\u001b[38;5;241m=\u001b[39m \u001b[38;5;124m\"\u001b[39m\u001b[38;5;124mb\u001b[39m\u001b[38;5;124m\"\u001b[39m\n\u001b[1;32m-> 1880\u001b[0m \u001b[38;5;28mself\u001b[39m\u001b[38;5;241m.\u001b[39mhandles \u001b[38;5;241m=\u001b[39m \u001b[43mget_handle\u001b[49m\u001b[43m(\u001b[49m\n\u001b[0;32m   1881\u001b[0m \u001b[43m    \u001b[49m\u001b[43mf\u001b[49m\u001b[43m,\u001b[49m\n\u001b[0;32m   1882\u001b[0m \u001b[43m    \u001b[49m\u001b[43mmode\u001b[49m\u001b[43m,\u001b[49m\n\u001b[0;32m   1883\u001b[0m \u001b[43m    \u001b[49m\u001b[43mencoding\u001b[49m\u001b[38;5;241;43m=\u001b[39;49m\u001b[38;5;28;43mself\u001b[39;49m\u001b[38;5;241;43m.\u001b[39;49m\u001b[43moptions\u001b[49m\u001b[38;5;241;43m.\u001b[39;49m\u001b[43mget\u001b[49m\u001b[43m(\u001b[49m\u001b[38;5;124;43m\"\u001b[39;49m\u001b[38;5;124;43mencoding\u001b[39;49m\u001b[38;5;124;43m\"\u001b[39;49m\u001b[43m,\u001b[49m\u001b[43m \u001b[49m\u001b[38;5;28;43;01mNone\u001b[39;49;00m\u001b[43m)\u001b[49m\u001b[43m,\u001b[49m\n\u001b[0;32m   1884\u001b[0m \u001b[43m    \u001b[49m\u001b[43mcompression\u001b[49m\u001b[38;5;241;43m=\u001b[39;49m\u001b[38;5;28;43mself\u001b[39;49m\u001b[38;5;241;43m.\u001b[39;49m\u001b[43moptions\u001b[49m\u001b[38;5;241;43m.\u001b[39;49m\u001b[43mget\u001b[49m\u001b[43m(\u001b[49m\u001b[38;5;124;43m\"\u001b[39;49m\u001b[38;5;124;43mcompression\u001b[39;49m\u001b[38;5;124;43m\"\u001b[39;49m\u001b[43m,\u001b[49m\u001b[43m \u001b[49m\u001b[38;5;28;43;01mNone\u001b[39;49;00m\u001b[43m)\u001b[49m\u001b[43m,\u001b[49m\n\u001b[0;32m   1885\u001b[0m \u001b[43m    \u001b[49m\u001b[43mmemory_map\u001b[49m\u001b[38;5;241;43m=\u001b[39;49m\u001b[38;5;28;43mself\u001b[39;49m\u001b[38;5;241;43m.\u001b[39;49m\u001b[43moptions\u001b[49m\u001b[38;5;241;43m.\u001b[39;49m\u001b[43mget\u001b[49m\u001b[43m(\u001b[49m\u001b[38;5;124;43m\"\u001b[39;49m\u001b[38;5;124;43mmemory_map\u001b[39;49m\u001b[38;5;124;43m\"\u001b[39;49m\u001b[43m,\u001b[49m\u001b[43m \u001b[49m\u001b[38;5;28;43;01mFalse\u001b[39;49;00m\u001b[43m)\u001b[49m\u001b[43m,\u001b[49m\n\u001b[0;32m   1886\u001b[0m \u001b[43m    \u001b[49m\u001b[43mis_text\u001b[49m\u001b[38;5;241;43m=\u001b[39;49m\u001b[43mis_text\u001b[49m\u001b[43m,\u001b[49m\n\u001b[0;32m   1887\u001b[0m \u001b[43m    \u001b[49m\u001b[43merrors\u001b[49m\u001b[38;5;241;43m=\u001b[39;49m\u001b[38;5;28;43mself\u001b[39;49m\u001b[38;5;241;43m.\u001b[39;49m\u001b[43moptions\u001b[49m\u001b[38;5;241;43m.\u001b[39;49m\u001b[43mget\u001b[49m\u001b[43m(\u001b[49m\u001b[38;5;124;43m\"\u001b[39;49m\u001b[38;5;124;43mencoding_errors\u001b[39;49m\u001b[38;5;124;43m\"\u001b[39;49m\u001b[43m,\u001b[49m\u001b[43m \u001b[49m\u001b[38;5;124;43m\"\u001b[39;49m\u001b[38;5;124;43mstrict\u001b[39;49m\u001b[38;5;124;43m\"\u001b[39;49m\u001b[43m)\u001b[49m\u001b[43m,\u001b[49m\n\u001b[0;32m   1888\u001b[0m \u001b[43m    \u001b[49m\u001b[43mstorage_options\u001b[49m\u001b[38;5;241;43m=\u001b[39;49m\u001b[38;5;28;43mself\u001b[39;49m\u001b[38;5;241;43m.\u001b[39;49m\u001b[43moptions\u001b[49m\u001b[38;5;241;43m.\u001b[39;49m\u001b[43mget\u001b[49m\u001b[43m(\u001b[49m\u001b[38;5;124;43m\"\u001b[39;49m\u001b[38;5;124;43mstorage_options\u001b[39;49m\u001b[38;5;124;43m\"\u001b[39;49m\u001b[43m,\u001b[49m\u001b[43m \u001b[49m\u001b[38;5;28;43;01mNone\u001b[39;49;00m\u001b[43m)\u001b[49m\u001b[43m,\u001b[49m\n\u001b[0;32m   1889\u001b[0m \u001b[43m\u001b[49m\u001b[43m)\u001b[49m\n\u001b[0;32m   1890\u001b[0m \u001b[38;5;28;01massert\u001b[39;00m \u001b[38;5;28mself\u001b[39m\u001b[38;5;241m.\u001b[39mhandles \u001b[38;5;129;01mis\u001b[39;00m \u001b[38;5;129;01mnot\u001b[39;00m \u001b[38;5;28;01mNone\u001b[39;00m\n\u001b[0;32m   1891\u001b[0m f \u001b[38;5;241m=\u001b[39m \u001b[38;5;28mself\u001b[39m\u001b[38;5;241m.\u001b[39mhandles\u001b[38;5;241m.\u001b[39mhandle\n",
      "File \u001b[1;32m~\\AppData\\Local\\Programs\\Python\\Python312\\Lib\\site-packages\\pandas\\io\\common.py:873\u001b[0m, in \u001b[0;36mget_handle\u001b[1;34m(path_or_buf, mode, encoding, compression, memory_map, is_text, errors, storage_options)\u001b[0m\n\u001b[0;32m    868\u001b[0m \u001b[38;5;28;01melif\u001b[39;00m \u001b[38;5;28misinstance\u001b[39m(handle, \u001b[38;5;28mstr\u001b[39m):\n\u001b[0;32m    869\u001b[0m     \u001b[38;5;66;03m# Check whether the filename is to be opened in binary mode.\u001b[39;00m\n\u001b[0;32m    870\u001b[0m     \u001b[38;5;66;03m# Binary mode does not support 'encoding' and 'newline'.\u001b[39;00m\n\u001b[0;32m    871\u001b[0m     \u001b[38;5;28;01mif\u001b[39;00m ioargs\u001b[38;5;241m.\u001b[39mencoding \u001b[38;5;129;01mand\u001b[39;00m \u001b[38;5;124m\"\u001b[39m\u001b[38;5;124mb\u001b[39m\u001b[38;5;124m\"\u001b[39m \u001b[38;5;129;01mnot\u001b[39;00m \u001b[38;5;129;01min\u001b[39;00m ioargs\u001b[38;5;241m.\u001b[39mmode:\n\u001b[0;32m    872\u001b[0m         \u001b[38;5;66;03m# Encoding\u001b[39;00m\n\u001b[1;32m--> 873\u001b[0m         handle \u001b[38;5;241m=\u001b[39m \u001b[38;5;28;43mopen\u001b[39;49m\u001b[43m(\u001b[49m\n\u001b[0;32m    874\u001b[0m \u001b[43m            \u001b[49m\u001b[43mhandle\u001b[49m\u001b[43m,\u001b[49m\n\u001b[0;32m    875\u001b[0m \u001b[43m            \u001b[49m\u001b[43mioargs\u001b[49m\u001b[38;5;241;43m.\u001b[39;49m\u001b[43mmode\u001b[49m\u001b[43m,\u001b[49m\n\u001b[0;32m    876\u001b[0m \u001b[43m            \u001b[49m\u001b[43mencoding\u001b[49m\u001b[38;5;241;43m=\u001b[39;49m\u001b[43mioargs\u001b[49m\u001b[38;5;241;43m.\u001b[39;49m\u001b[43mencoding\u001b[49m\u001b[43m,\u001b[49m\n\u001b[0;32m    877\u001b[0m \u001b[43m            \u001b[49m\u001b[43merrors\u001b[49m\u001b[38;5;241;43m=\u001b[39;49m\u001b[43merrors\u001b[49m\u001b[43m,\u001b[49m\n\u001b[0;32m    878\u001b[0m \u001b[43m            \u001b[49m\u001b[43mnewline\u001b[49m\u001b[38;5;241;43m=\u001b[39;49m\u001b[38;5;124;43m\"\u001b[39;49m\u001b[38;5;124;43m\"\u001b[39;49m\u001b[43m,\u001b[49m\n\u001b[0;32m    879\u001b[0m \u001b[43m        \u001b[49m\u001b[43m)\u001b[49m\n\u001b[0;32m    880\u001b[0m     \u001b[38;5;28;01melse\u001b[39;00m:\n\u001b[0;32m    881\u001b[0m         \u001b[38;5;66;03m# Binary mode\u001b[39;00m\n\u001b[0;32m    882\u001b[0m         handle \u001b[38;5;241m=\u001b[39m \u001b[38;5;28mopen\u001b[39m(handle, ioargs\u001b[38;5;241m.\u001b[39mmode)\n",
      "\u001b[1;31mFileNotFoundError\u001b[0m: [Errno 2] No such file or directory: 'customer1.csv'"
     ]
    }
   ],
   "source": [
    "# reading the file\n",
    "file=pd.read_csv('customer1.csv')\n",
    "print(\"File read successfully\")"
   ]
  },
  {
   "cell_type": "markdown",
   "id": "b38b9206-5c61-4b2f-abcf-e52679d1be86",
   "metadata": {},
   "source": [
    "#### Info about file"
   ]
  },
  {
   "cell_type": "code",
   "execution_count": null,
   "id": "32d5559f-0bdd-48a3-a2d8-7f92e73facd0",
   "metadata": {},
   "outputs": [],
   "source": [
    "file.info()"
   ]
  },
  {
   "cell_type": "markdown",
   "id": "2a5f4386-d4a4-4c45-acbd-a3187498cb4a",
   "metadata": {},
   "source": [
    "This dataset includes a total of <b>100 rows and 8 columns.</b> All the column are fully valid, meaning they do noy contain any null values. The dataset is basically about the customer information which records their details like age, gender, income etc. For analysis, we have a total of 2 int columns, & 1 float column, rest are objects. A total memory consumed is approx. 6.4KB"
   ]
  },
  {
   "cell_type": "markdown",
   "id": "5d40f582-0076-4eaa-be25-2d4c02b7d3b1",
   "metadata": {},
   "source": [
    "#### Sample Values"
   ]
  },
  {
   "cell_type": "code",
   "execution_count": null,
   "id": "2ce83183-0f67-4edc-8746-ac6b43928e4c",
   "metadata": {},
   "outputs": [],
   "source": [
    "file.head() # prints ny default, initial 5 values"
   ]
  },
  {
   "cell_type": "code",
   "execution_count": null,
   "id": "ad06ce09-cf14-4a1e-9e23-7adf8e000915",
   "metadata": {},
   "outputs": [],
   "source": [
    "file.tail() # prints ny default, last 5 values"
   ]
  },
  {
   "cell_type": "code",
   "execution_count": null,
   "id": "70294f26-52ad-40e4-8967-4b4492c7fe05",
   "metadata": {},
   "outputs": [],
   "source": [
    "print(\"Missing value count in each column-\\n\",file.isnull().sum())\n",
    "# isnull() will identify if there is any null value in dataset or not(returns true or false)\n",
    "# .sum()"
   ]
  },
  {
   "cell_type": "markdown",
   "id": "e9e80383-fe69-4b38-86e8-418fa7e1247d",
   "metadata": {},
   "source": [
    "#### Replacing Age null values(assumption)"
   ]
  },
  {
   "cell_type": "code",
   "execution_count": null,
   "id": "f1bcb443-c199-4be0-86b8-f1ece951490b",
   "metadata": {},
   "outputs": [],
   "source": [
    "age_new=int(np.median(file['Age']))\n",
    "print(\"Median of age=\",age_new)\n",
    "\n",
    "file['Age_new']=file['Age'].fillna(age_new)"
   ]
  },
  {
   "cell_type": "code",
   "execution_count": null,
   "id": "f46b96eb-bfef-422c-9656-b8fd2fe451c8",
   "metadata": {},
   "outputs": [],
   "source": [
    "file.info()"
   ]
  },
  {
   "cell_type": "code",
   "execution_count": null,
   "id": "e1ec9a8a-9054-417e-8c03-982eb3f43d8f",
   "metadata": {},
   "outputs": [],
   "source": [
    "file.head()"
   ]
  },
  {
   "cell_type": "markdown",
   "id": "aeb5f52f-edac-4586-a117-ea188fa97c61",
   "metadata": {},
   "source": [
    "### Fixing City Names (Standardizing capitalization & strip spaces)"
   ]
  },
  {
   "cell_type": "code",
   "execution_count": null,
   "id": "bc0d58a3-69bc-49c6-9343-df0ee38fd995",
   "metadata": {},
   "outputs": [],
   "source": [
    "file['City']=file['City'].str.title().str.strip()\n",
    "# str.title() will capitalize all values || str.strip() will remove space from front and back\n",
    "file.head()"
   ]
  },
  {
   "cell_type": "markdown",
   "id": "8a27bd74-00e0-4643-befc-90cfc8575cad",
   "metadata": {},
   "source": [
    "### Working with date-time"
   ]
  },
  {
   "cell_type": "code",
   "execution_count": null,
   "id": "83af9b13-2745-45b6-99cc-a72fddfe4b01",
   "metadata": {},
   "outputs": [],
   "source": [
    "# converting SignupDate to date-time format\n",
    "file['SignupDate']=pd.to_datetime(file['SignupDate'])\n",
    "file.head()"
   ]
  },
  {
   "cell_type": "code",
   "execution_count": null,
   "id": "5b248548-164b-48cb-9349-e870049c3d1d",
   "metadata": {},
   "outputs": [],
   "source": [
    "# extracting Year and Month as new feature\n",
    "file['SignupYear']=file['SignupDate'].dt.year # dt is an object , year is reference to it\n",
    "file['SignupMonth']=file['SignupDate'].dt.month # dt is an object , month is reference to it\n",
    "file.drop(columns=['SignupDate'],inplace=True) # drop() will delete columns written in attribute\n",
    "file.head()"
   ]
  },
  {
   "cell_type": "code",
   "execution_count": null,
   "id": "3d7b8024-d322-40d4-adff-756f6a45e6ff",
   "metadata": {},
   "outputs": [],
   "source": [
    "file.info()"
   ]
  },
  {
   "cell_type": "markdown",
   "id": "43861c33-0081-474f-a49e-162d4a5ef056",
   "metadata": {},
   "source": [
    "### Label Encoding using sk-learn"
   ]
  },
  {
   "cell_type": "markdown",
   "id": "9a9410a6-7113-4193-a677-753a2800e7eb",
   "metadata": {},
   "source": [
    "<p>Can only be done for columns having categorical value</p>"
   ]
  },
  {
   "cell_type": "code",
   "execution_count": null,
   "id": "91750c84-ef16-47ab-a67b-5a4fa48d3b49",
   "metadata": {},
   "outputs": [],
   "source": [
    "le_gender=LabelEncoder() # LabelEncoder() is responsible for encoding each value uniquely\n",
    "le_active=LabelEncoder()\n",
    "\n",
    "file['Gender']=le_gender.fit_transform(file['Gender']) # fit-> it maps the encode to all values of column\n",
    "file['IsActive']=le_active.fit_transform(file['IsActive']) # transform-> conversion\n",
    "\n",
    "file.head()"
   ]
  },
  {
   "cell_type": "markdown",
   "id": "14e618d8-eeb0-4915-91e2-a4aca07a47a7",
   "metadata": {},
   "source": [
    "### Finding range of values within column"
   ]
  },
  {
   "cell_type": "code",
   "execution_count": null,
   "id": "e687122e-a452-4501-8518-b359b5f04dd2",
   "metadata": {},
   "outputs": [],
   "source": [
    "min_age=file['Age'].min()\n",
    "max_age=file['Age'].max()\n",
    "print(f\"Range of age-> {min_age} to {max_age}.\")\n",
    "\n",
    "range_inc=file['AnnualIncome'].agg(['min','max'])\n",
    "print(f\"Range of Income->\\n {range_inc}.\")"
   ]
  },
  {
   "cell_type": "markdown",
   "id": "e190301a-b758-4694-9df7-2812a70743f3",
   "metadata": {},
   "source": [
    "### Finding count of unique values in a column"
   ]
  },
  {
   "cell_type": "code",
   "execution_count": null,
   "id": "d575c5a2-cfd7-4da5-9fde-b66170b242be",
   "metadata": {},
   "outputs": [],
   "source": [
    "unique_city=file['City'].value_counts()\n",
    "\n",
    "print(\"Number of unique values of cities-\",unique_city)"
   ]
  },
  {
   "cell_type": "markdown",
   "id": "62e9ddac-1659-40b8-b711-60f0b7098e23",
   "metadata": {},
   "source": [
    "<h3 style=\"color:skyblue\">Visualization</h3>"
   ]
  },
  {
   "cell_type": "markdown",
   "id": "4bd9b200-2221-4249-92b4-2c4aa26639cd",
   "metadata": {},
   "source": [
    "<h4 style=\"color:orange\">There are 2 types of charts:-</h4>\n",
    "<ul>\n",
    "<li><b>Univariate chart</b>-> These charts depend on single values eg:Pie Chart etc.</li>\n",
    "<li><b>Multivariate chart</b>-> These charts depend on multiple values eg:Line Chart etc.</li>    "
   ]
  },
  {
   "cell_type": "markdown",
   "id": "a23699a2-c5c1-4154-880e-972a30dd2704",
   "metadata": {},
   "source": [
    "For visualization we are going to use 2 libraries:- a) <b>Matplotlib</b> b) <b>Seaborn</b>"
   ]
  },
  {
   "cell_type": "markdown",
   "id": "9b19cac6-63d3-45ac-87d9-d4b38786b60f",
   "metadata": {},
   "source": [
    "### Signup Trend over Time"
   ]
  },
  {
   "cell_type": "code",
   "execution_count": null,
   "id": "6881e3e6-7311-4649-b087-f2d57fdcbd16",
   "metadata": {},
   "outputs": [],
   "source": [
    "monthly_signup=file['SignupMonth'].value_counts().sort_index()\n",
    "print(type(monthly_signup))"
   ]
  },
  {
   "cell_type": "code",
   "execution_count": null,
   "id": "3e18f56b-eeb8-4b6e-893c-83c279c1baf5",
   "metadata": {},
   "outputs": [],
   "source": [
    "# Step-1 set the size of figure\n",
    "plt.figure(figsize=(12,5))\n",
    "monthly_signup.plot(kind='bar')\n",
    "plt.title('Customer Signup over Time')\n",
    "plt.xlabel('Month')\n",
    "plt.ylabel('Number of Signups')\n",
    "plt.xticks(rotation=0)\n",
    "plt.grid(True)\n",
    "plt.show()"
   ]
  },
  {
   "cell_type": "markdown",
   "id": "9b6ca9c2-4a38-430b-858c-56839a2207e9",
   "metadata": {},
   "source": [
    "<p>From the observation of above charts, we can clearly identify that <b>October has most number of signups</b>, followed by January. While, <b>May has least number of signups</b>"
   ]
  },
  {
   "cell_type": "markdown",
   "id": "9bd69bba-4ea6-4a71-9c54-14179e7ebc3f",
   "metadata": {},
   "source": [
    "### Countplot: Gender Distribution"
   ]
  },
  {
   "cell_type": "code",
   "execution_count": null,
   "id": "1b113d42-ec4c-46da-90ae-7941ed53bc02",
   "metadata": {},
   "outputs": [],
   "source": [
    "plt.figure(figsize=(6,4))\n",
    "sns.countplot(x='Gender',data=file)\n",
    "plt.title('Gender Distribution')\n",
    "plt.grid(True)\n",
    "plt.show()"
   ]
  },
  {
   "cell_type": "markdown",
   "id": "eadbadf6-5996-4bac-8e5f-59516727b5de",
   "metadata": {},
   "source": [
    "### Boxplot: Annual Income By Gender"
   ]
  },
  {
   "cell_type": "code",
   "execution_count": null,
   "id": "ca124170-6099-4b7a-b51f-e0cd033a5fa4",
   "metadata": {},
   "outputs": [],
   "source": [
    "plt.figure(figsize=(10,5))\n",
    "sns.boxplot(x='Gender',y='AnnualIncome',data=file)\n",
    "plt.title('Annual Income By Gender')\n",
    "plt.show()"
   ]
  },
  {
   "cell_type": "code",
   "execution_count": null,
   "id": "6b4cfdad-04ea-45ac-b053-39790857bb67",
   "metadata": {},
   "outputs": [],
   "source": []
  },
  {
   "cell_type": "code",
   "execution_count": null,
   "id": "0c458906-a990-45f9-93e9-6b42f532b278",
   "metadata": {},
   "outputs": [],
   "source": []
  }
 ],
 "metadata": {
  "kernelspec": {
   "display_name": "Python 3 (ipykernel)",
   "language": "python",
   "name": "python3"
  },
  "language_info": {
   "codemirror_mode": {
    "name": "ipython",
    "version": 3
   },
   "file_extension": ".py",
   "mimetype": "text/x-python",
   "name": "python",
   "nbconvert_exporter": "python",
   "pygments_lexer": "ipython3",
   "version": "3.12.3"
  }
 },
 "nbformat": 4,
 "nbformat_minor": 5
}

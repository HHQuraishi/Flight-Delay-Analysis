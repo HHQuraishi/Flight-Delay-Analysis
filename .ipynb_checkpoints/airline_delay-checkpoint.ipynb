{
 "cells": [
  {
   "cell_type": "markdown",
   "id": "570445a4-46f2-4e8f-a7f7-4e6113addb3d",
   "metadata": {},
   "source": [
    "<pre><h2 style=\"color:#48d1cc\">                        Flight Delay Predictors from Aviation Data</h2></pre>"
   ]
  },
  {
   "cell_type": "markdown",
   "id": "1e4fab6e-7837-41c4-8b81-dc9b41294ea8",
   "metadata": {},
   "source": [
    "<pre style=\"font-family:cursive;font-size:20px\">                               Builiding an analysis report to understand what factors most impact flight delays</pre>"
   ]
  },
  {
   "cell_type": "markdown",
   "id": "4e65744d-4d38-48f8-9995-60a992e17337",
   "metadata": {},
   "source": [
    "<h4>Importing Libraries</h4>"
   ]
  },
  {
   "cell_type": "code",
   "execution_count": 2,
   "id": "bfe50199-d270-4778-89c2-763bec9d6609",
   "metadata": {},
   "outputs": [],
   "source": [
    "import numpy as np\n",
    "import pandas as pd\n",
    "import matplotlib.pyplot as plt\n",
    "import seaborn as sns\n",
    "from sklearn.preprocessing import LabelEncoder, StandardScaler"
   ]
  },
  {
   "cell_type": "markdown",
   "id": "9f6e82ce-eca6-4ce5-a964-66bebc1c19fe",
   "metadata": {},
   "source": [
    "<h4>Reading the Dataset</h4>"
   ]
  },
  {
   "cell_type": "code",
   "execution_count": 3,
   "id": "15e974e5-89a1-44a7-b4cf-7d2ba287928d",
   "metadata": {},
   "outputs": [
    {
     "name": "stdout",
     "output_type": "stream",
     "text": [
      "File read successfully\n"
     ]
    }
   ],
   "source": [
    "file=pd.read_csv('airline_delay.csv')\n",
    "print(f\"File read successfully\")"
   ]
  },
  {
   "cell_type": "markdown",
   "id": "77787382-bee2-40e4-83fd-72eeb6b3729b",
   "metadata": {},
   "source": [
    "<h4>Getting information about the Dataframe</h4>"
   ]
  },
  {
   "cell_type": "code",
   "execution_count": 4,
   "id": "5ac320f2-3f4a-455d-86d4-f52eb203c275",
   "metadata": {},
   "outputs": [
    {
     "name": "stdout",
     "output_type": "stream",
     "text": [
      "<class 'pandas.core.frame.DataFrame'>\n",
      "RangeIndex: 3351 entries, 0 to 3350\n",
      "Data columns (total 21 columns):\n",
      " #   Column               Non-Null Count  Dtype  \n",
      "---  ------               --------------  -----  \n",
      " 0   year                 3351 non-null   int64  \n",
      " 1   month                3351 non-null   int64  \n",
      " 2   carrier              3351 non-null   object \n",
      " 3   carrier_name         3351 non-null   object \n",
      " 4   airport              3351 non-null   object \n",
      " 5   airport_name         3351 non-null   object \n",
      " 6   arr_flights          3343 non-null   float64\n",
      " 7   arr_del15            3343 non-null   float64\n",
      " 8   carrier_ct           3343 non-null   float64\n",
      " 9   weather_ct           3343 non-null   float64\n",
      " 10  nas_ct               3343 non-null   float64\n",
      " 11  security_ct          3343 non-null   float64\n",
      " 12  late_aircraft_ct     3343 non-null   float64\n",
      " 13  arr_cancelled        3343 non-null   float64\n",
      " 14  arr_diverted         3343 non-null   float64\n",
      " 15  arr_delay            3343 non-null   float64\n",
      " 16  carrier_delay        3343 non-null   float64\n",
      " 17  weather_delay        3343 non-null   float64\n",
      " 18  nas_delay            3343 non-null   float64\n",
      " 19  security_delay       3343 non-null   float64\n",
      " 20  late_aircraft_delay  3343 non-null   float64\n",
      "dtypes: float64(15), int64(2), object(4)\n",
      "memory usage: 549.9+ KB\n"
     ]
    }
   ],
   "source": [
    "file.info()"
   ]
  },
  {
   "cell_type": "code",
   "execution_count": 7,
   "id": "edc74474-60e6-4605-bc5b-87256756cc26",
   "metadata": {},
   "outputs": [
    {
     "name": "stdout",
     "output_type": "stream",
     "text": [
      "carrier_name\n",
      "Alaska Airlines Inc.       144\n",
      "Allegiant Air              240\n",
      "American Airlines Inc.     199\n",
      "Delta Air Lines Inc.       252\n",
      "Endeavor Air Inc.          226\n",
      "Envoy Air                  285\n",
      "ExpressJet Airlines LLC    106\n",
      "Frontier Airlines Inc.     184\n",
      "Hawaiian Airlines Inc.      37\n",
      "JetBlue Airways            120\n",
      "Mesa Airlines Inc.         219\n",
      "PSA Airlines Inc.          187\n",
      "Republic Airline           196\n",
      "SkyWest Airlines Inc.      479\n",
      "Southwest Airlines Co.     181\n",
      "Spirit Air Lines            97\n",
      "United Air Lines Inc.      191\n",
      "Name: arr_del15, dtype: int64\n"
     ]
    }
   ],
   "source": [
    "gp=file.groupby('carrier_name')['arr_del15'].count()\n",
    "print(gp)"
   ]
  },
  {
   "cell_type": "code",
   "execution_count": 8,
   "id": "e83c4108-6f20-4027-b24a-392c9fdd3f36",
   "metadata": {},
   "outputs": [
    {
     "name": "stdout",
     "output_type": "stream",
     "text": [
      "carrier_name\n",
      "SkyWest Airlines Inc.      482\n",
      "Envoy Air                  285\n",
      "Delta Air Lines Inc.       255\n",
      "Allegiant Air              240\n",
      "Endeavor Air Inc.          226\n",
      "Mesa Airlines Inc.         219\n",
      "American Airlines Inc.     199\n",
      "Republic Airline           196\n",
      "United Air Lines Inc.      193\n",
      "PSA Airlines Inc.          187\n",
      "Frontier Airlines Inc.     184\n",
      "Southwest Airlines Co.     181\n",
      "Alaska Airlines Inc.       144\n",
      "JetBlue Airways            120\n",
      "ExpressJet Airlines LLC    106\n",
      "Spirit Air Lines            97\n",
      "Hawaiian Airlines Inc.      37\n",
      "Name: count, dtype: int64\n"
     ]
    }
   ],
   "source": [
    "print(file['carrier_name'].value_counts())"
   ]
  },
  {
   "cell_type": "code",
   "execution_count": null,
   "id": "8bedd749-d8fd-4f0c-9f0c-cd03f41cdf84",
   "metadata": {},
   "outputs": [],
   "source": []
  }
 ],
 "metadata": {
  "kernelspec": {
   "display_name": "Python 3 (ipykernel)",
   "language": "python",
   "name": "python3"
  },
  "language_info": {
   "codemirror_mode": {
    "name": "ipython",
    "version": 3
   },
   "file_extension": ".py",
   "mimetype": "text/x-python",
   "name": "python",
   "nbconvert_exporter": "python",
   "pygments_lexer": "ipython3",
   "version": "3.12.3"
  }
 },
 "nbformat": 4,
 "nbformat_minor": 5
}

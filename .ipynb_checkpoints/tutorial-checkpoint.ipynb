{
 "cells": [
  {
   "cell_type": "markdown",
   "id": "fb1bc370-c1dc-4792-af36-1f4c94e7be11",
   "metadata": {},
   "source": [
    "<pre>\n",
    "<h2>Types of import statements</h2>\n",
    "<li>Collective import</li>\n",
    "    <p>import library_name : <i>entire library will be imported</i></p>\n",
    "<li>Selective import</li>\n",
    "    <p>from library_name import selector_name : <i>only selected part of library is imported</i></p>\n",
    "</pre>"
   ]
  },
  {
   "cell_type": "code",
   "execution_count": 14,
   "id": "d67d7ae0-e331-46e3-9818-70b0c887a5a9",
   "metadata": {},
   "outputs": [],
   "source": [
    "import numpy as np # numpy is used for mathematical/statistical derivations"
   ]
  },
  {
   "cell_type": "code",
   "execution_count": 15,
   "id": "7497066a-8f4b-4c2e-bc8a-875d9a08a85a",
   "metadata": {},
   "outputs": [
    {
     "name": "stdout",
     "output_type": "stream",
     "text": [
      "data type of list-> <class 'list'>\n",
      "arr= [10 45 67 94 32]\n",
      "data type of arr-> <class 'numpy.ndarray'>\n"
     ]
    }
   ],
   "source": [
    "list=[10,45,67,94,32]\n",
    "print(\"data type of list->\",type(list))\n",
    "\n",
    "# converting list to array\n",
    "arr=np.array(list) # arr is a new variable which will work as array\n",
    "# array() is a method, which converts any python collection into numpy array\n",
    "\n",
    "print(\"arr=\",arr)\n",
    "print(\"data type of arr->\",type(arr))"
   ]
  },
  {
   "cell_type": "markdown",
   "id": "c7e7c98b-d03a-4f9b-812c-3fb079ea0461",
   "metadata": {},
   "source": [
    "<pre>\n",
    "<h2> Pandas Library </h2>\n",
    "We are going to use pandas to work with data sets.\n",
    "Methods of pandas, will not work with the data collections of python/any other source.\n",
    "So, every data colections of python is replaced in pandas-\n",
    "eg: list-> series\n",
    "    dictionary-> dataframe</pre>"
   ]
  },
  {
   "cell_type": "markdown",
   "id": "c9b133cc-93f4-4eb0-8735-b9344d6ac73a",
   "metadata": {},
   "source": [
    "<pre><h2>Capability of Pandas</h2>\n",
    "<ul><li>Reading or Creating datasets</li>\n",
    "    <li>Finding Correlation</li>\n",
    "    <li>Average of Data</li>\n",
    "    <li>Data Preprocessing</li></ul></pre>"
   ]
  },
  {
   "cell_type": "code",
   "execution_count": 16,
   "id": "689fb001-d507-462d-8be9-8547c0823137",
   "metadata": {},
   "outputs": [],
   "source": [
    "import pandas as pd"
   ]
  },
  {
   "cell_type": "code",
   "execution_count": 17,
   "id": "ed38de93-4b9b-4743-98f2-afc2e3b97dc5",
   "metadata": {},
   "outputs": [
    {
     "name": "stdout",
     "output_type": "stream",
     "text": [
      "newLi-> <class 'list'>\n",
      "mySeries-> <class 'pandas.core.series.Series'>\n"
     ]
    }
   ],
   "source": [
    "newLi=[12,45,27,88,90]\n",
    "print(\"newLi->\",type(newLi))\n",
    "\n",
    "# convert list to series\n",
    "mySeries=pd.Series(newLi) # .Series() converts list to Series : It is datatype from pandas class\n",
    "print(\"mySeries->\",type(mySeries))"
   ]
  },
  {
   "cell_type": "code",
   "execution_count": 18,
   "id": "22152b4c-2921-4a16-bb1e-3f22dfb6fad6",
   "metadata": {},
   "outputs": [
    {
     "name": "stdout",
     "output_type": "stream",
     "text": [
      "[12, 45, 27, 88, 90]\n",
      "0    12\n",
      "1    45\n",
      "2    27\n",
      "3    88\n",
      "4    90\n",
      "dtype: int64\n"
     ]
    }
   ],
   "source": [
    "print(newLi)\n",
    "print(mySeries)"
   ]
  },
  {
   "cell_type": "code",
   "execution_count": 19,
   "id": "98a2cb03-f740-4ec5-86d8-2964ac821c18",
   "metadata": {},
   "outputs": [
    {
     "name": "stdout",
     "output_type": "stream",
     "text": [
      "{'Name': ['Adeel Ahmad', 'Amir Khan', 'Ghazi Ali', 'Hammad Husain', 'Hashir Aqeel'], 'Color': ['Brown', 'Black', 'Green', 'Blue', 'Purple']}\n",
      "Datatype of dataDF-> <class 'pandas.core.frame.DataFrame'>\n",
      "            Name   Color\n",
      "0    Adeel Ahmad   Brown\n",
      "1      Amir Khan   Black\n",
      "2      Ghazi Ali   Green\n",
      "3  Hammad Husain    Blue\n",
      "4   Hashir Aqeel  Purple\n"
     ]
    }
   ],
   "source": [
    "myData={\n",
    "    \"Name\": [\"Adeel Ahmad\",\"Amir Khan\",\"Ghazi Ali\",\"Hammad Husain\",\"Hashir Aqeel\"],\n",
    "    \"Color\": [\"Brown\",\"Black\",\"Green\",\"Blue\",\"Purple\"]\n",
    "}\n",
    "print(myData)\n",
    "\n",
    "# converting dictionary to DataFrame\n",
    "dataDF=pd.DataFrame(myData)\n",
    "\n",
    "print(\"Datatype of dataDF->\",type(dataDF))\n",
    "print(dataDF)"
   ]
  },
  {
   "cell_type": "code",
   "execution_count": 20,
   "id": "45593e93-88b8-42c2-b02a-63d8b73e5925",
   "metadata": {},
   "outputs": [
    {
     "name": "stdout",
     "output_type": "stream",
     "text": [
      "        Name  Color\n",
      "1  Amir Khan  Black\n",
      "2  Ghazi Ali  Green\n"
     ]
    }
   ],
   "source": [
    "print(dataDF.loc[[1,2]]) # to return one or more specified rows"
   ]
  },
  {
   "cell_type": "code",
   "execution_count": 21,
   "id": "65a92fde-90b2-4f87-86d5-e337aa985d90",
   "metadata": {},
   "outputs": [
    {
     "name": "stdout",
     "output_type": "stream",
     "text": [
      "<class 'pandas.core.frame.DataFrame'>\n",
      "<class 'pandas.core.series.Series'>\n"
     ]
    }
   ],
   "source": [
    "print(type(dataDF.loc[[1,2]]))\n",
    "print(type(dataDF.loc[2]))"
   ]
  },
  {
   "cell_type": "code",
   "execution_count": 22,
   "id": "318cf138-0862-4182-8d75-1e5b03865a66",
   "metadata": {},
   "outputs": [
    {
     "name": "stdout",
     "output_type": "stream",
     "text": [
      "       height  weight\n",
      "stu-1     120      55\n",
      "stu-2     150      70\n",
      "stu-3     180      85\n",
      "stu-4     175      68\n",
      "----------------------------------------------\n",
      "height    180\n",
      "weight     85\n",
      "Name: stu-3, dtype: int64\n"
     ]
    }
   ],
   "source": [
    "sample={\n",
    "    \"height\":[120,150,180,175],\n",
    "    \"weight\":[55,70,85,68]}\n",
    "\n",
    "# creating our own index | own row index values\n",
    "sampleDF=pd.DataFrame(sample,index=[\"stu-1\",\"stu-2\",\"stu-3\",\"stu-4\"])\n",
    "print(sampleDF)\n",
    "print(\"----------------------------------------------\")\n",
    "print(sampleDF.loc[\"stu-3\"])"
   ]
  },
  {
   "cell_type": "markdown",
   "id": "97b62a4f-ef9a-4301-93a2-c9e41d014972",
   "metadata": {},
   "source": [
    "<pre>\n",
    "<h2>Creating files from DataFrame</h2>\n",
    "    converting dataDF dict into various files\n",
    "    Steps->myData(dict)->dataDF(dataFrame)->creating any file\n",
    "</pre>"
   ]
  },
  {
   "cell_type": "code",
   "execution_count": 10,
   "id": "f4c767a0-e8a6-4ac5-83f9-6acd34d0fde2",
   "metadata": {},
   "outputs": [
    {
     "name": "stdout",
     "output_type": "stream",
     "text": [
      "File created successfully\n"
     ]
    }
   ],
   "source": [
    "# creating .csv file\n",
    "dataDF.to_csv('csvdata.csv',index=False)\n",
    "print(\"File created successfully\")"
   ]
  },
  {
   "cell_type": "code",
   "execution_count": 11,
   "id": "ef349762-3427-4e03-ad0d-ae42df8274e1",
   "metadata": {},
   "outputs": [
    {
     "name": "stdout",
     "output_type": "stream",
     "text": [
      "File created successfully\n"
     ]
    }
   ],
   "source": [
    "# creating .xlsx file\n",
    "dataDF.to_excel('xldata.xlsx',index=False)\n",
    "print(\"File created successfully\")"
   ]
  },
  {
   "cell_type": "code",
   "execution_count": 12,
   "id": "31b83561-fc91-4a35-b7b4-2cf59da262ec",
   "metadata": {},
   "outputs": [
    {
     "name": "stdout",
     "output_type": "stream",
     "text": [
      "File created successfully\n"
     ]
    }
   ],
   "source": [
    "# creating .json file\n",
    "dataDF.to_json('jsondata.json',index=False)\n",
    "print(\"File created successfully\")"
   ]
  },
  {
   "cell_type": "code",
   "execution_count": 23,
   "id": "8df8d801-fb6f-483d-a985-fbdab4bb2f2b",
   "metadata": {},
   "outputs": [
    {
     "name": "stdout",
     "output_type": "stream",
     "text": [
      "myFile created successfully\n"
     ]
    }
   ],
   "source": [
    "# Create a csv file from dictionary, having 4 columns with details of your 5 friends.\n",
    "\n",
    "myFriends={\"Name\":[\"Hassan Khan\",\"Hashir Aqeel\",\"Ghazi Ali\",\"Gulam Ahmad\",\"H Abdul Aahad\"],\n",
    "           \"Fvrt. Color\": [\"Brown\",\"Black\",\"Green\",\"Blue\",\"Purple\"],\n",
    "           \"Fvrt. Food\":[\"Biryani\",\"Pulao\",\"Qorma\",\"Seekh Kabab\",\"Haleem\"],\n",
    "           \"Fvrt. Dessert\":[\"Phirni\",\"Kheer\",\"Imirti\",\"Shahi Tukda\",\"Besan ke Laddoo\"]}\n",
    "myDF=pd.DataFrame(myFriends)\n",
    "myDF.to_csv(\"myFriends.csv\",index=False)\n",
    "print(\"myFile created successfully\")"
   ]
  },
  {
   "cell_type": "markdown",
   "id": "223c3834-fd85-4f52-9142-42e1692f1e34",
   "metadata": {},
   "source": [
    "## Reading Files"
   ]
  },
  {
   "cell_type": "code",
   "execution_count": 24,
   "id": "226ee04a-ab49-44bd-8f80-3cba3eb439cb",
   "metadata": {},
   "outputs": [
    {
     "name": "stdout",
     "output_type": "stream",
     "text": [
      "File read successfull\n",
      "<class 'pandas.core.frame.DataFrame'>\n"
     ]
    }
   ],
   "source": [
    "# reading excel file\n",
    "filexl=pd.read_excel('fromxl.xlsx')\n",
    "print(\"File read successfull\")\n",
    "print(type(filexl))"
   ]
  },
  {
   "cell_type": "code",
   "execution_count": 25,
   "id": "fd4d6eca-c08b-464a-a5e4-6de4a4644181",
   "metadata": {},
   "outputs": [
    {
     "name": "stdout",
     "output_type": "stream",
     "text": [
      "   S. No.   Name   Age  Gender\n",
      "0       1  Hammad    22      M\n",
      "1       2  Hassan    22      M\n",
      "2       3  Hashir    22      M\n",
      "3       4   Ghazi    22      M\n",
      "4       5   Zohan    10      M\n"
     ]
    }
   ],
   "source": [
    "print(filexl)"
   ]
  },
  {
   "cell_type": "code",
   "execution_count": 26,
   "id": "8c32ebaf-3abe-4ad3-b616-2c99fa60a124",
   "metadata": {},
   "outputs": [
    {
     "name": "stdout",
     "output_type": "stream",
     "text": [
      "File read successfull\n",
      "<class 'pandas.core.frame.DataFrame'>\n"
     ]
    }
   ],
   "source": [
    "# reading csv file\n",
    "filecsv=pd.read_csv('fromcsv.csv')\n",
    "print(\"File read successfull\")\n",
    "print(type(filecsv))"
   ]
  },
  {
   "cell_type": "code",
   "execution_count": 27,
   "id": "c7a473a9-f3cd-46ed-b61d-68914ad2a770",
   "metadata": {},
   "outputs": [
    {
     "name": "stdout",
     "output_type": "stream",
     "text": [
      "   S. No.   Name   Age  Gender\n",
      "0       1  Hammad    22      M\n",
      "1       2  Hassan    22      M\n",
      "2       3  Hashir    22      M\n",
      "3       4   Ghazi    22      M\n",
      "4       5   Zohan    10      M\n"
     ]
    }
   ],
   "source": [
    "print(filecsv)"
   ]
  },
  {
   "cell_type": "code",
   "execution_count": 28,
   "id": "07f75d64-ed14-4047-84cb-362ef59dcdd3",
   "metadata": {},
   "outputs": [
    {
     "name": "stdout",
     "output_type": "stream",
     "text": [
      "<class 'pandas.core.frame.DataFrame'>\n",
      "RangeIndex: 5 entries, 0 to 4\n",
      "Data columns (total 4 columns):\n",
      " #   Column  Non-Null Count  Dtype \n",
      "---  ------  --------------  ----- \n",
      " 0   S. No.  5 non-null      int64 \n",
      " 1   Name    5 non-null      object\n",
      " 2   Age     5 non-null      int64 \n",
      " 3   Gender  5 non-null      object\n",
      "dtypes: int64(2), object(2)\n",
      "memory usage: 292.0+ bytes\n"
     ]
    }
   ],
   "source": [
    "filecsv.info() # it will provide summary of entire dataframe"
   ]
  },
  {
   "cell_type": "code",
   "execution_count": 30,
   "id": "28c3df0a-3184-4b2c-b443-5ce8ba18ee4f",
   "metadata": {},
   "outputs": [
    {
     "name": "stdout",
     "output_type": "stream",
     "text": [
      "File read successfull\n",
      "<class 'pandas.core.frame.DataFrame'>\n",
      "RangeIndex: 100 entries, 0 to 99\n",
      "Data columns (total 8 columns):\n",
      " #   Column         Non-Null Count  Dtype  \n",
      "---  ------         --------------  -----  \n",
      " 0   CustomerID     100 non-null    object \n",
      " 1   Age            100 non-null    int64  \n",
      " 2   Gender         100 non-null    object \n",
      " 3   AnnualIncome   100 non-null    float64\n",
      " 4   SpendingScore  100 non-null    int64  \n",
      " 5   City           100 non-null    object \n",
      " 6   SignupDate     100 non-null    object \n",
      " 7   IsActive       100 non-null    object \n",
      "dtypes: float64(1), int64(2), object(5)\n",
      "memory usage: 6.4+ KB\n"
     ]
    }
   ],
   "source": [
    "# reading csv file\n",
    "file=pd.read_csv('customer1.csv')\n",
    "print(\"File read successfull\")\n",
    "file.info()"
   ]
  },
  {
   "cell_type": "code",
   "execution_count": null,
   "id": "caaf870e-d656-418a-bcff-802e46ea844b",
   "metadata": {},
   "outputs": [],
   "source": []
  }
 ],
 "metadata": {
  "kernelspec": {
   "display_name": "Python 3 (ipykernel)",
   "language": "python",
   "name": "python3"
  },
  "language_info": {
   "codemirror_mode": {
    "name": "ipython",
    "version": 3
   },
   "file_extension": ".py",
   "mimetype": "text/x-python",
   "name": "python",
   "nbconvert_exporter": "python",
   "pygments_lexer": "ipython3",
   "version": "3.12.3"
  }
 },
 "nbformat": 4,
 "nbformat_minor": 5
}
